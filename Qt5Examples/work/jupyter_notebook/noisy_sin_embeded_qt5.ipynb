{
 "cells": [
  {
   "cell_type": "code",
   "execution_count": 1,
   "metadata": {
    "collapsed": true
   },
   "outputs": [],
   "source": [
    "from __future__ import unicode_literals\n",
    "import sys\n",
    "import os\n",
    "import random\n",
    "import matplotlib\n",
    "matplotlib.use(\"Qt5Agg\")\n",
    "from PyQt5 import QtCore, QtWidgets\n",
    "#from numpy import arange, sin, pi\n",
    "import numpy as np\n",
    "from matplotlib.backends.backend_qt5agg import FigureCanvasQTAgg as FigureCanvas\n",
    "from matplotlib.figure import Figure"
   ]
  },
  {
   "cell_type": "markdown",
   "metadata": {},
   "source": []
  },
  {
   "cell_type": "code",
   "execution_count": 2,
   "metadata": {
    "collapsed": false
   },
   "outputs": [],
   "source": [
    "progname = os.path.basename(sys.argv[0])\n",
    "progversion = \"0.1\""
   ]
  },
  {
   "cell_type": "code",
   "execution_count": 3,
   "metadata": {
    "collapsed": true
   },
   "outputs": [],
   "source": [
    "class MyMplCanvas(FigureCanvas):\n",
    "    \"\"\"Ultimately, this is a QWidget (as well as a FigureCanvasAgg, etc.).\"\"\"\n",
    "\n",
    "    def __init__(self, parent=None, width=5, height=4, dpi=100):\n",
    "        fig = Figure(figsize=(width, height), dpi=dpi)\n",
    "        self.axes = fig.add_subplot(111)\n",
    "\n",
    "        self.compute_initial_figure()\n",
    "\n",
    "        FigureCanvas.__init__(self, fig)\n",
    "        self.setParent(parent)\n",
    "\n",
    "        FigureCanvas.setSizePolicy(self,\n",
    "                                   QtWidgets.QSizePolicy.Expanding,\n",
    "                                   QtWidgets.QSizePolicy.Expanding)\n",
    "        FigureCanvas.updateGeometry(self)\n",
    "\n",
    "    def compute_initial_figure(self):\n",
    "        pass\n"
   ]
  },
  {
   "cell_type": "code",
   "execution_count": null,
   "metadata": {
    "collapsed": true
   },
   "outputs": [],
   "source": []
  },
  {
   "cell_type": "code",
   "execution_count": 4,
   "metadata": {
    "collapsed": false
   },
   "outputs": [],
   "source": [
    "class MyStaticMplCanvas(MyMplCanvas):\n",
    "    \"\"\"Simple canvas with a sine plot.\"\"\"\n",
    "\n",
    "    def compute_initial_figure(self):\n",
    "        t=np.array(range(0,256))\n",
    "        a=3\n",
    "        per=40\n",
    "        noise=np.random.normal(0, 1, len(t))\n",
    "        s=a*np.sin(2*np.pi/per*t)+noise\n",
    "        s2=a*np.sin(2*np.pi/per*t)\n",
    "        self.axes.plot(t, s)\n",
    "        #self.axes.plot(t, s2)"
   ]
  },
  {
   "cell_type": "code",
   "execution_count": null,
   "metadata": {
    "collapsed": true
   },
   "outputs": [],
   "source": []
  },
  {
   "cell_type": "code",
   "execution_count": 5,
   "metadata": {
    "collapsed": false
   },
   "outputs": [],
   "source": [
    "class ApplicationWindow(QtWidgets.QMainWindow):\n",
    "    def __init__(self):\n",
    "        QtWidgets.QMainWindow.__init__(self)\n",
    "        self.setAttribute(QtCore.Qt.WA_DeleteOnClose)\n",
    "        self.setWindowTitle(\"application main window\")\n",
    "\n",
    "        self.file_menu = QtWidgets.QMenu('&File', self)\n",
    "        self.file_menu.addAction('&Quit', self.fileQuit,\n",
    "                                 QtCore.Qt.CTRL + QtCore.Qt.Key_Q)\n",
    "        self.menuBar().addMenu(self.file_menu)\n",
    "\n",
    "        self.help_menu = QtWidgets.QMenu('&Help', self)\n",
    "        self.menuBar().addSeparator()\n",
    "        self.menuBar().addMenu(self.help_menu)\n",
    "\n",
    "        self.help_menu.addAction('&About', self.about)\n",
    "\n",
    "        self.main_widget = QtWidgets.QWidget(self)\n",
    "\n",
    "        l = QtWidgets.QVBoxLayout(self.main_widget)\n",
    "        sc = MyStaticMplCanvas(self.main_widget, width=5, height=4, dpi=300)\n",
    "        #dc = MyDynamicMplCanvas(self.main_widget, width=5, height=4, dpi=300)\n",
    "        l.addWidget(sc)\n",
    "        #l.addWidget(dc)\n",
    "\n",
    "        self.main_widget.setFocus()\n",
    "        self.setCentralWidget(self.main_widget)\n",
    "\n",
    "        self.statusBar().showMessage(\"All hail matplotlib!\", 2000)\n",
    "\n",
    "    def fileQuit(self):\n",
    "        self.close()\n",
    "\n",
    "    def closeEvent(self, ce):\n",
    "        self.fileQuit()\n",
    "\n",
    "    def about(self):\n",
    "        QtWidgets.QMessageBox.about(self, \"About\",\n",
    "                                    \"\"\"embedding_in_qt5.py example\n",
    "Copyright 2005 Florent Rougon, 2006 Darren Dale, 2015 Jens H Nielsen\n",
    "\n",
    "This program is a simple example of a Qt5 application embedding matplotlib\n",
    "canvases.\n",
    "\n",
    "It may be used and modified with no restriction; raw copies as well as\n",
    "modified versions may be distributed without limitation.\n",
    "\n",
    "This is modified from the embedding in qt4 example to show the difference\n",
    "between qt4 and qt5\"\"\"\n",
    "                                )"
   ]
  },
  {
   "cell_type": "code",
   "execution_count": 6,
   "metadata": {
    "collapsed": false
   },
   "outputs": [
    {
     "ename": "SystemExit",
     "evalue": "0",
     "output_type": "error",
     "traceback": [
      "An exception has occurred, use %tb to see the full traceback.\n",
      "\u001b[1;31mSystemExit\u001b[0m\u001b[1;31m:\u001b[0m 0\n"
     ]
    },
    {
     "name": "stderr",
     "output_type": "stream",
     "text": [
      "To exit: use 'exit', 'quit', or Ctrl-D.\n"
     ]
    }
   ],
   "source": [
    "qApp = QtWidgets.QApplication(sys.argv)\n",
    "\n",
    "aw = ApplicationWindow()\n",
    "aw.setWindowTitle(\"%s\" % progname)\n",
    "aw.show()\n",
    "sys.exit(qApp.exec_())"
   ]
  },
  {
   "cell_type": "code",
   "execution_count": null,
   "metadata": {
    "collapsed": false
   },
   "outputs": [],
   "source": []
  },
  {
   "cell_type": "code",
   "execution_count": null,
   "metadata": {
    "collapsed": false
   },
   "outputs": [],
   "source": []
  },
  {
   "cell_type": "code",
   "execution_count": null,
   "metadata": {
    "collapsed": true
   },
   "outputs": [],
   "source": []
  }
 ],
 "metadata": {
  "kernelspec": {
   "display_name": "Python 3",
   "language": "python",
   "name": "python3"
  },
  "language_info": {
   "codemirror_mode": {
    "name": "ipython",
    "version": 3
   },
   "file_extension": ".py",
   "mimetype": "text/x-python",
   "name": "python",
   "nbconvert_exporter": "python",
   "pygments_lexer": "ipython3",
   "version": "3.5.3"
  }
 },
 "nbformat": 4,
 "nbformat_minor": 0
}
